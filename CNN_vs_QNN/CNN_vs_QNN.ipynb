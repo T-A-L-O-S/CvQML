{
 "cells": [
  {
   "cell_type": "markdown",
   "id": "secondary-copying",
   "metadata": {},
   "source": [
    "# Classical QNNs and Hybrid QNNs\n",
    "\n",
    "This notebook demonstrates the difference between a `Classical NN Model` and a `Hybrid QNN Model` used on the MNIST Dataset."
   ]
  },
  {
   "cell_type": "markdown",
   "id": "0bd49245-00fd-4c5c-9dc8-9d5a3b78d0e5",
   "metadata": {
    "tags": []
   },
   "source": [
    "# Necessary Imports"
   ]
  },
  {
   "cell_type": "code",
   "execution_count": 1,
   "id": "banned-helicopter",
   "metadata": {},
   "outputs": [],
   "source": [
    "import numpy as np\n",
    "import matplotlib.pyplot as plt\n",
    "\n",
    "from torch import Tensor\n",
    "from torch.nn import Linear, CrossEntropyLoss, MSELoss\n",
    "from torch.optim import LBFGS\n",
    "\n",
    "from qiskit import QuantumCircuit\n",
    "from qiskit.utils import algorithm_globals\n",
    "from qiskit.circuit import Parameter\n",
    "from qiskit.circuit.library import RealAmplitudes, ZZFeatureMap\n",
    "from qiskit_machine_learning.neural_networks import SamplerQNN, EstimatorQNN\n",
    "from qiskit_machine_learning.connectors import TorchConnector\n",
    "\n",
    "algorithm_globals.random_seed = 42"
   ]
  },
  {
   "cell_type": "code",
   "execution_count": 2,
   "id": "otherwise-military",
   "metadata": {},
   "outputs": [],
   "source": [
    "# Additional torch-related imports\n",
    "import torch\n",
    "from torch import cat, no_grad, manual_seed\n",
    "from torch.utils.data import DataLoader\n",
    "from torchvision import datasets, transforms\n",
    "import torch.optim as optim\n",
    "from torch.nn import (\n",
    "    Module,\n",
    "    Conv2d,\n",
    "    Linear,\n",
    "    Dropout2d,\n",
    "    NLLLoss,\n",
    "    MaxPool2d,\n",
    "    Flatten,\n",
    "    Sequential,\n",
    "    ReLU,\n",
    ")\n",
    "import torch.nn.functional as F"
   ]
  },
  {
   "cell_type": "markdown",
   "id": "bronze-encounter",
   "metadata": {
    "tags": []
   },
   "source": [
    "# Loading Data for both QNN and CNN"
   ]
  },
  {
   "cell_type": "markdown",
   "id": "parliamentary-middle",
   "metadata": {},
   "source": [
    "We take advantage of the `torchvision` [API](https://pytorch.org/vision/stable/datasets.html) to directly load a subset of the [MNIST dataset](https://en.wikipedia.org/wiki/MNIST_database) and define torch `DataLoaders` for train and test."
   ]
  },
  {
   "cell_type": "code",
   "execution_count": 3,
   "id": "worthy-charlotte",
   "metadata": {},
   "outputs": [],
   "source": [
    "manual_seed(42)\n",
    "\n",
    "batch_size = 1\n",
    "n_samples = 20000\n",
    "\n",
    "X_train = datasets.MNIST(\n",
    "    root=\"./data\", train=True, download=True, transform=transforms.Compose([transforms.ToTensor()])\n",
    ")\n",
    "\n",
    "idx = np.append(\n",
    "    np.where(X_train.targets == 0)[0][:n_samples], np.where(X_train.targets == 1)[0][:n_samples]\n",
    ")\n",
    "X_train.data = X_train.data[idx]\n",
    "X_train.targets = X_train.targets[idx]\n",
    "\n",
    "train_loader = DataLoader(X_train, batch_size=batch_size, shuffle=True)"
   ]
  },
  {
   "cell_type": "markdown",
   "id": "completed-spring",
   "metadata": {},
   "source": [
    "In a quick visualization, we can see that we have extracted 0s and 1s into the train dataset."
   ]
  },
  {
   "cell_type": "code",
   "execution_count": 4,
   "id": "medieval-bibliography",
   "metadata": {},
   "outputs": [
    {
     "data": {
      "image/png": "[encoded data removed]",
      "text/plain": [
       "<Figure size 1000x300 with 6 Axes>"
      ]
     },
     "metadata": {},
     "output_type": "display_data"
    }
   ],
   "source": [
    "n_samples_show = 6\n",
    "\n",
    "data_iter = iter(train_loader)\n",
    "fig, axes = plt.subplots(nrows=1, ncols=n_samples_show, figsize=(10, 3))\n",
    "\n",
    "while n_samples_show > 0:\n",
    "    images, targets = data_iter.__next__()\n",
    "\n",
    "    axes[n_samples_show - 1].imshow(images[0, 0].numpy().squeeze(), cmap=\"gray\")\n",
    "    axes[n_samples_show - 1].set_xticks([])\n",
    "    axes[n_samples_show - 1].set_yticks([])\n",
    "    axes[n_samples_show - 1].set_title(\"Labeled: {}\".format(targets[0].item()))\n",
    "\n",
    "    n_samples_show -= 1"
   ]
  },
  {
   "cell_type": "markdown",
   "id": "e0e64acd-5e9a-4dbd-aced-4add4dba0465",
   "metadata": {},
   "source": [
    "Again, we are extracting 0s and 1s for the test dataset."
   ]
  },
  {
   "cell_type": "code",
   "execution_count": 17,
   "id": "structural-chuck",
   "metadata": {},
   "outputs": [],
   "source": [
    "n_samples = 20000\n",
    "\n",
    "X_test = datasets.MNIST(\n",
    "    root=\"./data\", train=False, download=True, transform=transforms.Compose([transforms.ToTensor()])\n",
    ")\n",
    "\n",
    "idx = np.append(\n",
    "    np.where(X_test.targets == 0)[0][:n_samples], np.where(X_test.targets == 1)[0][:n_samples]\n",
    ")\n",
    "X_test.data = X_test.data[idx]\n",
    "X_test.targets = X_test.targets[idx]\n",
    "\n",
    "test_loader = DataLoader(X_test, batch_size=batch_size, shuffle=True)"
   ]
  },
  {
   "cell_type": "markdown",
   "id": "abroad-morris",
   "metadata": {
    "tags": []
   },
   "source": [
    "# Defining Models for Both"
   ]
  },
  {
   "cell_type": "code",
   "execution_count": 6,
   "id": "f223f076-fbb8-4faf-9d54-546fcacc2bf8",
   "metadata": {},
   "outputs": [],
   "source": [
    "# Define classical NN module\n",
    "class Classical_Net(Module):\n",
    "    def __init__(self):\n",
    "        super(Classical_Net, self).__init__()\n",
    "        self.conv1 = Conv2d(1, 2, kernel_size=5)\n",
    "        self.conv2 = Conv2d(2, 16, kernel_size=5)\n",
    "        self.dropout = Dropout2d()\n",
    "        self.fc1 = Linear(256, 64)\n",
    "        self.fc2 = Linear(64, 2)\n",
    "\n",
    "    def forward(self, x):\n",
    "        x = F.relu(self.conv1(x))\n",
    "        x = F.max_pool2d(x, 2)\n",
    "        x = F.relu(self.conv2(x))\n",
    "        x = F.max_pool2d(x, 2)\n",
    "        x = self.dropout(x)\n",
    "        x = x.view(x.shape[0], -1)\n",
    "        x = F.relu(self.fc1(x))\n",
    "        x = self.fc2(x)\n",
    "        return x\n",
    "\n",
    "\n",
    "model = Classical_Net()"
   ]
  },
  {
   "cell_type": "markdown",
   "id": "2170c837-2b53-4ce3-9042-75261649c34b",
   "metadata": {
    "tags": []
   },
   "source": [
    "## Creating QNN circuit  "
   ]
  },
  {
   "cell_type": "markdown",
   "id": "f8f3bfdd-4a60-4fcb-baae-94f606c709a3",
   "metadata": {
    "tags": []
   },
   "source": [
    "Here we are using a ZZFeatureMap and an ansatz with 2 qubits and a repitition value of 1."
   ]
  },
  {
   "cell_type": "code",
   "execution_count": 21,
   "id": "urban-purse",
   "metadata": {},
   "outputs": [],
   "source": [
    "# Define and create QNN\n",
    "def create_qnn():\n",
    "    feature_map = ZZFeatureMap(2)\n",
    "    ansatz = RealAmplitudes(2, reps=1)\n",
    "    qc = QuantumCircuit(2)\n",
    "    qc.compose(feature_map, inplace=True)\n",
    "    qc.compose(ansatz, inplace=True)\n",
    "\n",
    "    qnn = EstimatorQNN(\n",
    "        circuit=qc,\n",
    "        input_params=feature_map.parameters,\n",
    "        weight_params=ansatz.parameters,\n",
    "        input_gradients=True,\n",
    "    )\n",
    "    return qnn\n",
    "\n",
    "\n",
    "qnn_og = create_qnn()"
   ]
  },
  {
   "cell_type": "markdown",
   "id": "46a8e79e-cc58-428a-bf0b-59d278dba5ec",
   "metadata": {},
   "source": [
    "## Fixing Optimizer"
   ]
  },
  {
   "cell_type": "code",
   "execution_count": 9,
   "id": "22b0bb0e-299d-4f3d-8f17-1c1b2e8fed9b",
   "metadata": {},
   "outputs": [
    {
     "data": {
      "text/plain": [
       "Classical_Net(\n",
       "  (conv1): Conv2d(1, 2, kernel_size=(5, 5), stride=(1, 1))\n",
       "  (conv2): Conv2d(2, 16, kernel_size=(5, 5), stride=(1, 1))\n",
       "  (dropout): Dropout2d(p=0.5, inplace=False)\n",
       "  (fc1): Linear(in_features=256, out_features=64, bias=True)\n",
       "  (fc2): Linear(in_features=64, out_features=2, bias=True)\n",
       ")"
      ]
     },
     "execution_count": 9,
     "metadata": {},
     "output_type": "execute_result"
    }
   ],
   "source": [
    "# Define model, optimizer, and loss function\n",
    "optimizer = optim.Adam(model.parameters(), lr=0.001)\n",
    "loss_func = CrossEntropyLoss()\n",
    "\n",
    "# Start training\n",
    "epochs = 10  # Set number of epochs\n",
    "loss_list = []  # Store loss history\n",
    "model.train()  # Set model to training mode"
   ]
  },
  {
   "cell_type": "markdown",
   "id": "24a7e471-8c1f-49df-8468-b989a78d8508",
   "metadata": {},
   "source": [
    "# Training and Testing Models"
   ]
  },
  {
   "cell_type": "markdown",
   "id": "7b66fd33-2d1b-4e83-86eb-f84a455649b2",
   "metadata": {},
   "source": [
    "## Training Classical Neural Network"
   ]
  },
  {
   "cell_type": "code",
   "execution_count": 77,
   "id": "7d179b3b-bf46-4622-8fe6-7666d9dd53e9",
   "metadata": {},
   "outputs": [
    {
     "name": "stdout",
     "output_type": "stream",
     "text": [
      "Training [10%]\tLoss: 0.0177\n",
      "Training [20%]\tLoss: 0.0071\n",
      "Training [30%]\tLoss: 0.0068\n",
      "Training [40%]\tLoss: 0.0055\n",
      "Training [50%]\tLoss: 0.0058\n",
      "Training [60%]\tLoss: 0.0059\n",
      "Training [70%]\tLoss: 0.0048\n",
      "Training [80%]\tLoss: 0.0017\n",
      "Training [90%]\tLoss: 0.0048\n",
      "Training [100%]\tLoss: 0.0067\n"
     ]
    }
   ],
   "source": [
    "for epoch in range(epochs):\n",
    "    total_loss = []\n",
    "    for batch_idx, (data, target) in enumerate(train_loader):\n",
    "        optimizer.zero_grad()  # Initialize gradient\n",
    "        output = model(data)  # Forward pass\n",
    "        loss = loss_func(output, target)  # Calculate loss\n",
    "        loss.backward()  # Backward pass\n",
    "        optimizer.step()  # Optimize weights\n",
    "        total_loss.append(loss.item())  # Store loss\n",
    "    classical_loss_list.append(sum(total_loss) / len(total_loss))\n",
    "    print(\"Training [{:.0f}%]\\tLoss: {:.4f}\".format(100.0 * (epoch + 1) / epochs, classical_loss_list[-1]))"
   ]
  },
  {
   "cell_type": "markdown",
   "id": "bbb5666b-a093-4411-8964-b04f7748ebad",
   "metadata": {},
   "source": [
    "## Testing and Plotting Graphs of Classical Neural Network"
   ]
  },
  {
   "cell_type": "markdown",
   "id": "bbf89a25-52b5-4f81-966c-091f449b6070",
   "metadata": {},
   "source": [
    "### Training Curve"
   ]
  },
  {
   "cell_type": "code",
   "execution_count": 102,
   "id": "edb82f24-34ff-48ef-a526-4509c7b66f52",
   "metadata": {},
   "outputs": [
    {
     "data": {
      "image/png": "[encoded data removed]",
      "text/plain": [
       "<Figure size 640x480 with 1 Axes>"
      ]
     },
     "metadata": {},
     "output_type": "display_data"
    }
   ],
   "source": [
    "# Plot loss convergence\n",
    "plt.plot(classical_loss_list)\n",
    "plt.title(\"Classical NN Training Convergence\")\n",
    "plt.xlabel(\"Training Iterations\")\n",
    "plt.ylabel(\"Cross Entropy Loss\")\n",
    "plt.show()"
   ]
  },
  {
   "cell_type": "markdown",
   "id": "412cf7b2-9d4f-4737-ad3b-42b9d9009adb",
   "metadata": {},
   "source": [
    "### Saving Model"
   ]
  },
  {
   "cell_type": "code",
   "execution_count": null,
   "id": "07206caa-6a65-4cba-9341-1e70908173d9",
   "metadata": {},
   "outputs": [],
   "source": [
    "torch.save(model.state_dict(), \"model_classical.pt\")"
   ]
  },
  {
   "cell_type": "markdown",
   "id": "00b249d8-ecb0-4ce2-bc69-2a78fa631b92",
   "metadata": {
    "tags": []
   },
   "source": [
    "### Evaluating Model"
   ]
  },
  {
   "cell_type": "code",
   "execution_count": 15,
   "id": "2df1c6df-4074-470b-add8-04ed569f5ce6",
   "metadata": {},
   "outputs": [
    {
     "data": {
      "text/plain": [
       "<All keys matched successfully>"
      ]
     },
     "execution_count": 15,
     "metadata": {},
     "output_type": "execute_result"
    }
   ],
   "source": [
    "model_eval = Classical_Net()\n",
    "model_eval.load_state_dict(torch.load(\"model_classical.pt\"))"
   ]
  },
  {
   "cell_type": "markdown",
   "id": "c8bcfe0a-2168-4493-9865-5a419e4de2ad",
   "metadata": {
    "tags": []
   },
   "source": [
    "#### Declaring Variables to store Average Loss and Accuracy values"
   ]
  },
  {
   "cell_type": "code",
   "execution_count": 12,
   "id": "34f06eae-e74b-42ff-9f7c-a7d3f925525a",
   "metadata": {
    "tags": []
   },
   "outputs": [],
   "source": [
    "classical_avg_loss_100 = 0\n",
    "classical_avg_loss_1000 = 0\n",
    "classical_avg_loss_10000 = 0\n",
    "classical_avg_loss_20000 = 0\n",
    "classical_accuracy_100 = 0\n",
    "classical_accuracy_1000 = 0\n",
    "classical_accuracy_10000 = 0\n",
    "classical_accuracy_20000 = 0"
   ]
  },
  {
   "cell_type": "markdown",
   "id": "bb28da43-6db1-4e78-a295-183eb71c6d12",
   "metadata": {},
   "source": [
    "#### With 100 Samples"
   ]
  },
  {
   "cell_type": "code",
   "execution_count": 16,
   "id": "c41b5b7b-3231-4f56-95b8-8f83110ad34f",
   "metadata": {
    "tags": []
   },
   "outputs": [
    {
     "name": "stdout",
     "output_type": "stream",
     "text": [
      "Performance on test data:\n",
      "\tLoss: 0.0000\n",
      "\tAccuracy: 100.0%\n"
     ]
    }
   ],
   "source": [
    "model_eval.eval()  # Set model to evaluation mode\n",
    "total_loss = []\n",
    "correct = 0\n",
    "\n",
    "with torch.no_grad():\n",
    "    for batch_idx, (data, target) in enumerate(test_loader):\n",
    "        output = model_eval(data)\n",
    "        if len(output.shape) == 1:\n",
    "            output = output.unsqueeze(0)\n",
    "\n",
    "        pred = output.argmax(dim=1, keepdim=True)\n",
    "        correct += pred.eq(target.view_as(pred)).sum().item()\n",
    "\n",
    "        loss = loss_func(output, target)\n",
    "        total_loss.append(loss.item())\n",
    "\n",
    "    if len(total_loss) > 0:\n",
    "        classical_avg_loss_100 = sum(total_loss) / len(total_loss)\n",
    "    if len(test_loader) > 0:\n",
    "        classical_accuracy_100 = correct / (len(test_loader) * batch_size) * 100\n",
    "    \n",
    "    print(\"Performance on test data:\")\n",
    "    print(\"\\tLoss: {:.4f}\".format(classical_avg_loss_100))\n",
    "    print(\"\\tAccuracy: {:.1f}%\".format(classical_accuracy_100))"
   ]
  },
  {
   "cell_type": "code",
   "execution_count": 125,
   "id": "e98eeb5f-bd88-467c-8d53-9f1e77761feb",
   "metadata": {},
   "outputs": [
    {
     "data": {
      "image/png": "[encoded data removed]",
      "text/plain": [
       "<Figure size 1000x300 with 6 Axes>"
      ]
     },
     "metadata": {},
     "output_type": "display_data"
    }
   ],
   "source": [
    "# Plot predicted labels\n",
    "n_samples_show = 6\n",
    "count = 0\n",
    "fig, axes = plt.subplots(nrows=1, ncols=n_samples_show, figsize=(10, 3))\n",
    "\n",
    "model_eval.eval()\n",
    "with torch.no_grad():\n",
    "    for batch_idx, (data, target) in enumerate(test_loader):\n",
    "        if count == n_samples_show:\n",
    "            break\n",
    "        output = model_eval(data[0:1])\n",
    "        if len(output.shape) == 1:\n",
    "            output = output.unsqueeze(0)\n",
    "\n",
    "        pred = output.argmax(dim=1, keepdim=True)\n",
    "\n",
    "        axes[count].imshow(data[0].numpy().squeeze(), cmap=\"gray\")\n",
    "        axes[count].set_xticks([])\n",
    "        axes[count].set_yticks([])\n",
    "        axes[count].set_title(\"Predicted {}\".format(pred.item()))\n",
    "\n",
    "        count += 1"
   ]
  },
  {
   "cell_type": "markdown",
   "id": "5c6d106e-7744-4214-b585-066a85fb2324",
   "metadata": {},
   "source": [
    "#### With 1000 Samples"
   ]
  },
  {
   "cell_type": "code",
   "execution_count": 127,
   "id": "74cdd3f8-3071-48a4-afd4-e3dd901ea43b",
   "metadata": {
    "tags": []
   },
   "outputs": [
    {
     "name": "stdout",
     "output_type": "stream",
     "text": [
      "Performance on test data:\n",
      "\tLoss: 0.0148\n",
      "\tAccuracy: 99.8%\n"
     ]
    }
   ],
   "source": [
    "model_eval.eval()  # Set model to evaluation mode\n",
    "total_loss = []\n",
    "correct = 0\n",
    "\n",
    "with torch.no_grad():\n",
    "    for batch_idx, (data, target) in enumerate(test_loader):\n",
    "        output = model_eval(data)\n",
    "        if len(output.shape) == 1:\n",
    "            output = output.unsqueeze(0)\n",
    "\n",
    "        pred = output.argmax(dim=1, keepdim=True)\n",
    "        correct += pred.eq(target.view_as(pred)).sum().item()\n",
    "\n",
    "        loss = loss_func(output, target)\n",
    "        total_loss.append(loss.item())\n",
    "\n",
    "    if len(total_loss) > 0:\n",
    "        classical_avg_loss_1000 = sum(total_loss) / len(total_loss)\n",
    "    if len(test_loader) > 0:\n",
    "        classical_accuracy_1000 = correct / (len(test_loader) * batch_size) * 100\n",
    "    \n",
    "    print(\"Performance on test data:\")\n",
    "    print(\"\\tLoss: {:.4f}\".format(classical_avg_loss_1000))\n",
    "    print(\"\\tAccuracy: {:.1f}%\".format(classical_accuracy_1000))"
   ]
  },
  {
   "cell_type": "code",
   "execution_count": 128,
   "id": "c8f7ca9d-9e87-4f05-83e5-14889b458689",
   "metadata": {
    "tags": []
   },
   "outputs": [
    {
     "data": {
      "image/png": "[encoded data removed]",
      "text/plain": [
       "<Figure size 1000x300 with 6 Axes>"
      ]
     },
     "metadata": {},
     "output_type": "display_data"
    }
   ],
   "source": [
    "# Plot predicted labels\n",
    "n_samples_show = 6\n",
    "count = 0\n",
    "fig, axes = plt.subplots(nrows=1, ncols=n_samples_show, figsize=(10, 3))\n",
    "\n",
    "model_eval.eval()\n",
    "with torch.no_grad():\n",
    "    for batch_idx, (data, target) in enumerate(test_loader):\n",
    "        if count == n_samples_show:\n",
    "            break\n",
    "        output = model_eval(data[0:1])\n",
    "        if len(output.shape) == 1:\n",
    "            output = output.unsqueeze(0)\n",
    "\n",
    "        pred = output.argmax(dim=1, keepdim=True)\n",
    "\n",
    "        axes[count].imshow(data[0].numpy().squeeze(), cmap=\"gray\")\n",
    "        axes[count].set_xticks([])\n",
    "        axes[count].set_yticks([])\n",
    "        axes[count].set_title(\"Predicted {}\".format(pred.item()))\n",
    "\n",
    "        count += 1"
   ]
  },
  {
   "cell_type": "markdown",
   "id": "c3a36f8b-1786-4c0d-a563-1be767bd644b",
   "metadata": {},
   "source": [
    "#### With 10000 Samples"
   ]
  },
  {
   "cell_type": "code",
   "execution_count": 130,
   "id": "78edc3f5-f508-4318-a807-a0cca999b0ea",
   "metadata": {
    "tags": []
   },
   "outputs": [
    {
     "name": "stdout",
     "output_type": "stream",
     "text": [
      "Performance on test data:\n",
      "\tLoss: 0.0139\n",
      "\tAccuracy: 99.8%\n"
     ]
    }
   ],
   "source": [
    "model_eval.eval()  # Set model to evaluation mode\n",
    "total_loss = []\n",
    "correct = 0\n",
    "\n",
    "with torch.no_grad():\n",
    "    for batch_idx, (data, target) in enumerate(test_loader):\n",
    "        output = model_eval(data)\n",
    "        if len(output.shape) == 1:\n",
    "            output = output.unsqueeze(0)\n",
    "\n",
    "        pred = output.argmax(dim=1, keepdim=True)\n",
    "        correct += pred.eq(target.view_as(pred)).sum().item()\n",
    "\n",
    "        loss = loss_func(output, target)\n",
    "        total_loss.append(loss.item())\n",
    "\n",
    "    if len(total_loss) > 0:\n",
    "        classical_avg_loss_10000 = sum(total_loss) / len(total_loss)\n",
    "    if len(test_loader) > 0:\n",
    "        classical_accuracy_10000 = correct / (len(test_loader) * batch_size) * 100\n",
    "    \n",
    "    print(\"Performance on test data:\")\n",
    "    print(\"\\tLoss: {:.4f}\".format(classical_avg_loss_10000))\n",
    "    print(\"\\tAccuracy: {:.1f}%\".format(classical_accuracy_10000))"
   ]
  },
  {
   "cell_type": "code",
   "execution_count": 131,
   "id": "29cac431-431c-44f1-a41a-c3a87cc5c13f",
   "metadata": {
    "tags": []
   },
   "outputs": [
    {
     "data": {
      "image/png": "[encoded data removed]",
      "text/plain": [
       "<Figure size 1000x300 with 6 Axes>"
      ]
     },
     "metadata": {},
     "output_type": "display_data"
    }
   ],
   "source": [
    "# Plot predicted labels\n",
    "n_samples_show = 6\n",
    "count = 0\n",
    "fig, axes = plt.subplots(nrows=1, ncols=n_samples_show, figsize=(10, 3))\n",
    "\n",
    "model_eval.eval()\n",
    "with torch.no_grad():\n",
    "    for batch_idx, (data, target) in enumerate(test_loader):\n",
    "        if count == n_samples_show:\n",
    "            break\n",
    "        output = model_eval(data[0:1])\n",
    "        if len(output.shape) == 1:\n",
    "            output = output.unsqueeze(0)\n",
    "\n",
    "        pred = output.argmax(dim=1, keepdim=True)\n",
    "\n",
    "        axes[count].imshow(data[0].numpy().squeeze(), cmap=\"gray\")\n",
    "        axes[count].set_xticks([])\n",
    "        axes[count].set_yticks([])\n",
    "        axes[count].set_title(\"Predicted {}\".format(pred.item()))\n",
    "\n",
    "        count += 1"
   ]
  },
  {
   "cell_type": "markdown",
   "id": "edeca73e-467d-4e15-9dc9-f4ff2e6a3d84",
   "metadata": {},
   "source": [
    "#### With 20000 Samples"
   ]
  },
  {
   "cell_type": "code",
   "execution_count": 134,
   "id": "a25c8cc5-9c01-4d93-860a-87f64dfe1f8a",
   "metadata": {
    "tags": []
   },
   "outputs": [
    {
     "name": "stdout",
     "output_type": "stream",
     "text": [
      "Performance on test data:\n",
      "\tLoss: 0.0139\n",
      "\tAccuracy: 99.8%\n"
     ]
    }
   ],
   "source": [
    "model_eval.eval()  # Set model to evaluation mode\n",
    "total_loss = []\n",
    "correct = 0\n",
    "\n",
    "with torch.no_grad():\n",
    "    for batch_idx, (data, target) in enumerate(test_loader):\n",
    "        output = model_eval(data)\n",
    "        if len(output.shape) == 1:\n",
    "            output = output.unsqueeze(0)\n",
    "\n",
    "        pred = output.argmax(dim=1, keepdim=True)\n",
    "        correct += pred.eq(target.view_as(pred)).sum().item()\n",
    "\n",
    "        loss = loss_func(output, target)\n",
    "        total_loss.append(loss.item())\n",
    "\n",
    "    if len(total_loss) > 0:\n",
    "        classical_avg_loss_20000 = sum(total_loss) / len(total_loss)\n",
    "    if len(test_loader) > 0:\n",
    "        classical_accuracy_20000 = correct / (len(test_loader) * batch_size) * 100\n",
    "    \n",
    "    print(\"Performance on test data:\")\n",
    "    print(\"\\tLoss: {:.4f}\".format(classical_avg_loss_20000))\n",
    "    print(\"\\tAccuracy: {:.1f}%\".format(classical_accuracy_20000))"
   ]
  },
  {
   "cell_type": "code",
   "execution_count": 135,
   "id": "b06352ff-efc3-4f21-806b-d1a458f54f30",
   "metadata": {
    "tags": []
   },
   "outputs": [
    {
     "data": {
      "image/png": "[encoded data removed]",
      "text/plain": [
       "<Figure size 1000x300 with 6 Axes>"
      ]
     },
     "metadata": {},
     "output_type": "display_data"
    }
   ],
   "source": [
    "# Plot predicted labels\n",
    "n_samples_show = 6\n",
    "count = 0\n",
    "fig, axes = plt.subplots(nrows=1, ncols=n_samples_show, figsize=(10, 3))\n",
    "\n",
    "model_eval.eval()\n",
    "with torch.no_grad():\n",
    "    for batch_idx, (data, target) in enumerate(test_loader):\n",
    "        if count == n_samples_show:\n",
    "            break\n",
    "        output = model_eval(data[0:1])\n",
    "        if len(output.shape) == 1:\n",
    "            output = output.unsqueeze(0)\n",
    "\n",
    "        pred = output.argmax(dim=1, keepdim=True)\n",
    "\n",
    "        axes[count].imshow(data[0].numpy().squeeze(), cmap=\"gray\")\n",
    "        axes[count].set_xticks([])\n",
    "        axes[count].set_yticks([])\n",
    "        axes[count].set_title(\"Predicted {}\".format(pred.item()))\n",
    "\n",
    "        count += 1"
   ]
  },
  {
   "cell_type": "markdown",
   "id": "d4581e53-aaa2-457f-86f7-0daeb95d203a",
   "metadata": {},
   "source": [
    "## Training Hybrid Neural Network"
   ]
  },
  {
   "cell_type": "code",
   "execution_count": 22,
   "id": "exclusive-productivity",
   "metadata": {},
   "outputs": [],
   "source": [
    "# Define torch NN module\n",
    "class QNN_Net(Module):\n",
    "    def __init__(self, qnn):\n",
    "        super().__init__()\n",
    "        self.conv1 = Conv2d(1, 2, kernel_size=5)\n",
    "        self.conv2 = Conv2d(2, 16, kernel_size=5)\n",
    "        self.dropout = Dropout2d()\n",
    "        self.fc1 = Linear(256, 64)\n",
    "        self.fc2 = Linear(64, 2) \n",
    "        self.qnn = TorchConnector(qnn)  \n",
    "        self.fc3 = Linear(1, 1)  \n",
    "\n",
    "    def forward(self, x):\n",
    "        x = F.relu(self.conv1(x))\n",
    "        x = F.max_pool2d(x, 2)\n",
    "        x = F.relu(self.conv2(x))\n",
    "        x = F.max_pool2d(x, 2)\n",
    "        x = self.dropout(x)\n",
    "        x = x.view(x.shape[0], -1)\n",
    "        x = F.relu(self.fc1(x))\n",
    "        x = self.fc2(x)\n",
    "        x = self.qnn(x)  # apply QNN\n",
    "        x = self.fc3(x)\n",
    "        return cat((x, 1 - x), -1)\n",
    "\n",
    "\n",
    "model_qnn = QNN_Net(qnn_og)"
   ]
  },
  {
   "cell_type": "code",
   "execution_count": 80,
   "id": "precious-career",
   "metadata": {},
   "outputs": [
    {
     "name": "stdout",
     "output_type": "stream",
     "text": [
      "Training [10%]\tLoss: -1.4124\n",
      "Training [20%]\tLoss: -9.5982\n",
      "Training [30%]\tLoss: -19.5862\n",
      "Training [40%]\tLoss: -26.0790\n",
      "Training [50%]\tLoss: -33.4969\n",
      "Training [60%]\tLoss: -47.7784\n",
      "Training [70%]\tLoss: -51.2643\n",
      "Training [80%]\tLoss: -74.0540\n",
      "Training [90%]\tLoss: -82.5714\n",
      "Training [100%]\tLoss: -35.6456\n"
     ]
    }
   ],
   "source": [
    "# Define model, optimizer, and loss function\n",
    "optimizer = optim.Adam(model_qnn.parameters(), lr=0.001)\n",
    "loss_func = NLLLoss()\n",
    "\n",
    "epochs = 10  \n",
    "qnn_loss_list = [] \n",
    "model_qnn.train() \n",
    "\n",
    "for epoch in range(epochs):\n",
    "    total_loss = []\n",
    "    for batch_idx, (data, target) in enumerate(train_loader):\n",
    "        optimizer.zero_grad(set_to_none=True)  \n",
    "        output = model_qnn(data)  \n",
    "        loss = loss_func(output, target)  \n",
    "        loss.backward()  \n",
    "        optimizer.step()  \n",
    "        total_loss.append(loss.item()) \n",
    "    qnn_loss_list.append(sum(total_loss) / len(total_loss))\n",
    "    print(\"Training [{:.0f}%]\\tLoss: {:.4f}\".format(100.0 * (epoch + 1) / epochs, qnn_loss_list[-1]))"
   ]
  },
  {
   "cell_type": "markdown",
   "id": "97240a7b-1e06-4da5-81f1-60bd497e05da",
   "metadata": {},
   "source": [
    "## Testing and Plotting Graphs of Hybrid Neural Network"
   ]
  },
  {
   "cell_type": "markdown",
   "id": "47e98897-27b5-415a-9d1f-8cdfbc73b948",
   "metadata": {},
   "source": [
    "### Training Curve"
   ]
  },
  {
   "cell_type": "code",
   "execution_count": 140,
   "id": "spoken-stationery",
   "metadata": {
    "scrolled": true
   },
   "outputs": [
    {
     "data": {
      "image/png": "[encoded data removed]",
      "text/plain": [
       "<Figure size 640x480 with 1 Axes>"
      ]
     },
     "metadata": {},
     "output_type": "display_data"
    }
   ],
   "source": [
    "# Plot loss convergence\n",
    "plt.plot(qnn_loss_list)\n",
    "plt.title(\"Hybrid NN Training Convergence\")\n",
    "plt.xlabel(\"Training Iterations\")\n",
    "plt.ylabel(\"Neg. Log Likelihood Loss\")\n",
    "plt.show()"
   ]
  },
  {
   "cell_type": "markdown",
   "id": "physical-closure",
   "metadata": {},
   "source": [
    "Now we'll save the trained model, just to show how a hybrid model can be saved and re-used later for inference."
   ]
  },
  {
   "cell_type": "code",
   "execution_count": 88,
   "id": "regulation-bread",
   "metadata": {},
   "outputs": [],
   "source": [
    "torch.save(model_qnn.state_dict(), \"model_qnn.pt\")"
   ]
  },
  {
   "cell_type": "markdown",
   "id": "fabulous-tribe",
   "metadata": {},
   "source": [
    "We start from recreating the model and loading the state from the previously saved file."
   ]
  },
  {
   "cell_type": "code",
   "execution_count": 20,
   "id": "prospective-flooring",
   "metadata": {},
   "outputs": [
    {
     "name": "stdout",
     "output_type": "stream",
     "text": [
      "Traceback \u001b[1;36m(most recent call last)\u001b[0m:\n",
      "\u001b[0m  Cell \u001b[0;32mIn[20], line 3\u001b[0m\n",
      "    model_qnn_eval.load_state_dict(torch.load(\"model_qnn.pt\"))\u001b[0m\n",
      "\u001b[1;36m  File \u001b[1;32m/opt/conda/lib/python3.10/site-packages/torch/nn/modules/module.py:2041\u001b[1;36m in \u001b[1;35mload_state_dict\u001b[1;36m\n",
      "\u001b[1;33m    raise RuntimeError('Error(s) in loading state_dict for {}:\\n\\t{}'.format(\u001b[1;36m\n",
      "\u001b[1;31mRuntimeError\u001b[0m\u001b[1;31m:\u001b[0m Error(s) in loading state_dict for QNN_Net:\n",
      "\tsize mismatch for qnn.weight: copying a param with shape torch.Size([4]) from checkpoint, the shape in current model is torch.Size([6]).\n",
      "\tsize mismatch for qnn._weights: copying a param with shape torch.Size([4]) from checkpoint, the shape in current model is torch.Size([6]).\n",
      "\n",
      "Use %tb to get the full traceback.\n"
     ]
    },
    {
     "data": {
      "text/html": [
       "\n",
       "<style>\n",
       ".button {\n",
       "  border: none;\n",
       "  color: white;\n",
       "  padding: 4px 8px;\n",
       "  text-align: center;\n",
       "  text-decoration: none;\n",
       "  display: inline-block;\n",
       "  font-size: 12px;\n",
       "  margin: 4px 2px;\n",
       "  transition-duration: 0.2s;\n",
       "  cursor: pointer;\n",
       "}\n",
       ".iqx-button {\n",
       "  background-color: #0f62fe; \n",
       "  color: white; \n",
       "}\n",
       ".iqx-button:hover {\n",
       "  background-color: #0043ce;\n",
       "  color: white;\n",
       "}\n",
       "</style>\n",
       "<a href=\"https://stackoverflow.com/search?q=RuntimeError: Error(s) in loading state_dict for QNN_Net:\n",
       "\tsize mismatch for qnn.weight: copying a param with shape torch.Size([4]) from checkpoint, the shape in current model is torch.Size([6]).\n",
       "\tsize mismatch for qnn._weights: copying a param with shape torch.Size([4]) from checkpoint, the shape in current model is torch.Size([6]).\" target='_blank'><button class='button iqx-button'>Search for solution online</button></a>\n"
      ],
      "text/plain": [
       "<IPython.core.display.HTML object>"
      ]
     },
     "metadata": {},
     "output_type": "display_data"
    }
   ],
   "source": [
    "qnn = create_qnn()\n",
    "model_qnn_eval = QNN_Net(qnn)\n",
    "model_qnn_eval.load_state_dict(torch.load(\"model_qnn.pt\"))"
   ]
  },
  {
   "cell_type": "markdown",
   "id": "992f3911-00e1-4d86-a912-5fcd0f0e0297",
   "metadata": {},
   "source": [
    "### Evaluating Model"
   ]
  },
  {
   "cell_type": "markdown",
   "id": "386e549f-e97f-4107-a435-cd291146fe5d",
   "metadata": {},
   "source": [
    "#### Declaring Variables to store Average Loss and Accuracy values"
   ]
  },
  {
   "cell_type": "code",
   "execution_count": 148,
   "id": "cc53336a-f605-491c-8ae4-ccafc5093df7",
   "metadata": {
    "tags": []
   },
   "outputs": [],
   "source": [
    "qnn_avg_loss_100 = 0\n",
    "qnn_avg_loss_1000 = 0\n",
    "qnn_avg_loss_10000 = 0\n",
    "qnn_avg_loss_20000 = 0\n",
    "qnn_accuracy_100 = 0\n",
    "qnn_accuracy_1000 = 0\n",
    "qnn_accuracy_10000 = 0\n",
    "qnn_accuracy_20000 = 0"
   ]
  },
  {
   "cell_type": "markdown",
   "id": "df22f14f-e8b6-4a63-a97e-04c13db030a1",
   "metadata": {},
   "source": [
    "#### With 100 Samples"
   ]
  },
  {
   "cell_type": "code",
   "execution_count": 150,
   "id": "spectacular-conservative",
   "metadata": {},
   "outputs": [
    {
     "name": "stdout",
     "output_type": "stream",
     "text": [
      "Performance on test data:\n",
      "\tLoss: -5.2261\n",
      "\tAccuracy: 83.5%\n"
     ]
    }
   ],
   "source": [
    "model_qnn_eval.eval()  # set model to evaluation mode\n",
    "with no_grad():\n",
    "\n",
    "    correct = 0\n",
    "    for batch_idx, (data, target) in enumerate(test_loader):\n",
    "        output = model_qnn_eval(data)\n",
    "        if len(output.shape) == 1:\n",
    "            output = output.reshape(1, *output.shape)\n",
    "\n",
    "        pred = output.argmax(dim=1, keepdim=True)\n",
    "        correct += pred.eq(target.view_as(pred)).sum().item()\n",
    "\n",
    "        loss = loss_func(output, target)\n",
    "        total_loss.append(loss.item())\n",
    "\n",
    "    if len(total_loss) > 0:\n",
    "        qnn_avg_loss_100 = sum(total_loss) / len(total_loss)\n",
    "    if len(test_loader) > 0:\n",
    "        qnn_accuracy_100 = correct / (len(test_loader) * batch_size) * 100\n",
    "\n",
    "    print(\"Performance on test data:\")\n",
    "    print(\"\\tLoss: {:.4f}\".format(qnn_avg_loss_100))\n",
    "    print(\"\\tAccuracy: {:.1f}%\".format(qnn_accuracy_100))"
   ]
  },
  {
   "cell_type": "code",
   "execution_count": 151,
   "id": "color-brave",
   "metadata": {
    "tags": [
     "nbsphinx-thumbnail"
    ]
   },
   "outputs": [
    {
     "data": {
      "image/png": "[encoded data removed]",
      "text/plain": [
       "<Figure size 1000x300 with 6 Axes>"
      ]
     },
     "metadata": {},
     "output_type": "display_data"
    }
   ],
   "source": [
    "# Plot predicted labels\n",
    "\n",
    "n_samples_show = 6\n",
    "count = 0\n",
    "fig, axes = plt.subplots(nrows=1, ncols=n_samples_show, figsize=(10, 3))\n",
    "\n",
    "model_qnn_eval.eval()\n",
    "with no_grad():\n",
    "    for batch_idx, (data, target) in enumerate(test_loader):\n",
    "        if count == n_samples_show:\n",
    "            break\n",
    "        output = model_qnn_eval(data[0:1])\n",
    "        if len(output.shape) == 1:\n",
    "            output = output.reshape(1, *output.shape)\n",
    "\n",
    "        pred = output.argmax(dim=1, keepdim=True)\n",
    "\n",
    "        axes[count].imshow(data[0].numpy().squeeze(), cmap=\"gray\")\n",
    "\n",
    "        axes[count].set_xticks([])\n",
    "        axes[count].set_yticks([])\n",
    "        axes[count].set_title(\"Predicted {}\".format(pred.item()))\n",
    "\n",
    "        count += 1"
   ]
  },
  {
   "cell_type": "markdown",
   "id": "e8ddae33-aff0-4942-a5dd-8c501447bea1",
   "metadata": {},
   "source": [
    "#### With 1000 Samples"
   ]
  },
  {
   "cell_type": "code",
   "execution_count": 153,
   "id": "f624185f-e5aa-4ddf-af5f-a755ed8f8194",
   "metadata": {
    "tags": []
   },
   "outputs": [
    {
     "name": "stdout",
     "output_type": "stream",
     "text": [
      "Performance on test data:\n",
      "\tLoss: -31.2987\n",
      "\tAccuracy: 85.4%\n"
     ]
    }
   ],
   "source": [
    "model_qnn_eval.eval()  # set model to evaluation mode\n",
    "with no_grad():\n",
    "\n",
    "    correct = 0\n",
    "    for batch_idx, (data, target) in enumerate(test_loader):\n",
    "        output = model_qnn_eval(data)\n",
    "        if len(output.shape) == 1:\n",
    "            output = output.reshape(1, *output.shape)\n",
    "\n",
    "        pred = output.argmax(dim=1, keepdim=True)\n",
    "        correct += pred.eq(target.view_as(pred)).sum().item()\n",
    "\n",
    "        loss = loss_func(output, target)\n",
    "        total_loss.append(loss.item())\n",
    "\n",
    "    if len(total_loss) > 0:\n",
    "        qnn_avg_loss_1000 = sum(total_loss) / len(total_loss)\n",
    "    if len(test_loader) > 0:\n",
    "        qnn_accuracy_1000 = correct / (len(test_loader) * batch_size) * 100\n",
    "\n",
    "    print(\"Performance on test data:\")\n",
    "    print(\"\\tLoss: {:.4f}\".format(qnn_avg_loss_1000))\n",
    "    print(\"\\tAccuracy: {:.1f}%\".format(qnn_accuracy_1000))"
   ]
  },
  {
   "cell_type": "code",
   "execution_count": 154,
   "id": "1850862a-acb6-4cc9-bfcc-5179cf37725b",
   "metadata": {
    "tags": []
   },
   "outputs": [
    {
     "data": {
      "image/png": "[encoded data removed]",
      "text/plain": [
       "<Figure size 1000x300 with 6 Axes>"
      ]
     },
     "metadata": {},
     "output_type": "display_data"
    }
   ],
   "source": [
    "# Plot predicted labels\n",
    "\n",
    "n_samples_show = 6\n",
    "count = 0\n",
    "fig, axes = plt.subplots(nrows=1, ncols=n_samples_show, figsize=(10, 3))\n",
    "\n",
    "model_qnn_eval.eval()\n",
    "with no_grad():\n",
    "    for batch_idx, (data, target) in enumerate(test_loader):\n",
    "        if count == n_samples_show:\n",
    "            break\n",
    "        output = model_qnn_eval(data[0:1])\n",
    "        if len(output.shape) == 1:\n",
    "            output = output.reshape(1, *output.shape)\n",
    "\n",
    "        pred = output.argmax(dim=1, keepdim=True)\n",
    "\n",
    "        axes[count].imshow(data[0].numpy().squeeze(), cmap=\"gray\")\n",
    "\n",
    "        axes[count].set_xticks([])\n",
    "        axes[count].set_yticks([])\n",
    "        axes[count].set_title(\"Predicted {}\".format(pred.item()))\n",
    "\n",
    "        count += 1"
   ]
  },
  {
   "cell_type": "markdown",
   "id": "a1af8eaa-9c45-469c-9693-f11537adb040",
   "metadata": {},
   "source": [
    "#### With 10000 Samples"
   ]
  },
  {
   "cell_type": "code",
   "execution_count": 156,
   "id": "c20c874c-1deb-4b27-b817-4eb52d1a6de6",
   "metadata": {
    "tags": []
   },
   "outputs": [
    {
     "name": "stdout",
     "output_type": "stream",
     "text": [
      "Performance on test data:\n",
      "\tLoss: -40.6285\n",
      "\tAccuracy: 84.4%\n"
     ]
    }
   ],
   "source": [
    "model_qnn_eval.eval()  # set model to evaluation mode\n",
    "with no_grad():\n",
    "\n",
    "    correct = 0\n",
    "    for batch_idx, (data, target) in enumerate(test_loader):\n",
    "        output = model_qnn_eval(data)\n",
    "        if len(output.shape) == 1:\n",
    "            output = output.reshape(1, *output.shape)\n",
    "\n",
    "        pred = output.argmax(dim=1, keepdim=True)\n",
    "        correct += pred.eq(target.view_as(pred)).sum().item()\n",
    "\n",
    "        loss = loss_func(output, target)\n",
    "        total_loss.append(loss.item())\n",
    "\n",
    "    if len(total_loss) > 0:\n",
    "        qnn_avg_loss_10000 = sum(total_loss) / len(total_loss)\n",
    "    if len(test_loader) > 0:\n",
    "        qnn_accuracy_10000 = correct / (len(test_loader) * batch_size) * 100\n",
    "\n",
    "    print(\"Performance on test data:\")\n",
    "    print(\"\\tLoss: {:.4f}\".format(qnn_avg_loss_10000))\n",
    "    print(\"\\tAccuracy: {:.1f}%\".format(qnn_accuracy_10000))"
   ]
  },
  {
   "cell_type": "code",
   "execution_count": 157,
   "id": "373ebb94-06ba-4a2f-b4b4-653957eeed00",
   "metadata": {
    "tags": []
   },
   "outputs": [
    {
     "data": {
      "image/png": "[encoded data removed]",
      "text/plain": [
       "<Figure size 1000x300 with 6 Axes>"
      ]
     },
     "metadata": {},
     "output_type": "display_data"
    }
   ],
   "source": [
    "# Plot predicted labels\n",
    "\n",
    "n_samples_show = 6\n",
    "count = 0\n",
    "fig, axes = plt.subplots(nrows=1, ncols=n_samples_show, figsize=(10, 3))\n",
    "\n",
    "model_qnn_eval.eval()\n",
    "with no_grad():\n",
    "    for batch_idx, (data, target) in enumerate(test_loader):\n",
    "        if count == n_samples_show:\n",
    "            break\n",
    "        output = model_qnn_eval(data[0:1])\n",
    "        if len(output.shape) == 1:\n",
    "            output = output.reshape(1, *output.shape)\n",
    "\n",
    "        pred = output.argmax(dim=1, keepdim=True)\n",
    "\n",
    "        axes[count].imshow(data[0].numpy().squeeze(), cmap=\"gray\")\n",
    "\n",
    "        axes[count].set_xticks([])\n",
    "        axes[count].set_yticks([])\n",
    "        axes[count].set_title(\"Predicted {}\".format(pred.item()))\n",
    "\n",
    "        count += 1"
   ]
  },
  {
   "cell_type": "markdown",
   "id": "5b946586-7364-4cf1-8d05-78375361902f",
   "metadata": {},
   "source": [
    "#### With 20000 Samples"
   ]
  },
  {
   "cell_type": "code",
   "execution_count": 159,
   "id": "938d96c8-c98e-4ac3-8b46-68b98f36e9fa",
   "metadata": {
    "tags": []
   },
   "outputs": [
    {
     "name": "stdout",
     "output_type": "stream",
     "text": [
      "Performance on test data:\n",
      "\tLoss: -45.3290\n",
      "\tAccuracy: 84.4%\n"
     ]
    }
   ],
   "source": [
    "model_qnn_eval.eval()  # set model to evaluation mode\n",
    "with no_grad():\n",
    "\n",
    "    correct = 0\n",
    "    for batch_idx, (data, target) in enumerate(test_loader):\n",
    "        output = model_qnn_eval(data)\n",
    "        if len(output.shape) == 1:\n",
    "            output = output.reshape(1, *output.shape)\n",
    "\n",
    "        pred = output.argmax(dim=1, keepdim=True)\n",
    "        correct += pred.eq(target.view_as(pred)).sum().item()\n",
    "\n",
    "        loss = loss_func(output, target)\n",
    "        total_loss.append(loss.item())\n",
    "\n",
    "    if len(total_loss) > 0:\n",
    "        qnn_avg_loss_20000 = sum(total_loss) / len(total_loss)\n",
    "    if len(test_loader) > 0:\n",
    "        qnn_accuracy_20000 = correct / (len(test_loader) * batch_size) * 100\n",
    "\n",
    "    print(\"Performance on test data:\")\n",
    "    print(\"\\tLoss: {:.4f}\".format(qnn_avg_loss_20000))\n",
    "    print(\"\\tAccuracy: {:.1f}%\".format(qnn_accuracy_20000))"
   ]
  },
  {
   "cell_type": "code",
   "execution_count": 160,
   "id": "81dc7f1e-5996-494d-9ddc-a5f558698631",
   "metadata": {
    "tags": []
   },
   "outputs": [
    {
     "data": {
      "image/png": "[encoded data removed]",
      "text/plain": [
       "<Figure size 1000x300 with 6 Axes>"
      ]
     },
     "metadata": {},
     "output_type": "display_data"
    }
   ],
   "source": [
    "# Plot predicted labels\n",
    "\n",
    "n_samples_show = 6\n",
    "count = 0\n",
    "fig, axes = plt.subplots(nrows=1, ncols=n_samples_show, figsize=(10, 3))\n",
    "\n",
    "model_qnn_eval.eval()\n",
    "with no_grad():\n",
    "    for batch_idx, (data, target) in enumerate(test_loader):\n",
    "        if count == n_samples_show:\n",
    "            break\n",
    "        output = model_qnn_eval(data[0:1])\n",
    "        if len(output.shape) == 1:\n",
    "            output = output.reshape(1, *output.shape)\n",
    "\n",
    "        pred = output.argmax(dim=1, keepdim=True)\n",
    "\n",
    "        axes[count].imshow(data[0].numpy().squeeze(), cmap=\"gray\")\n",
    "\n",
    "        axes[count].set_xticks([])\n",
    "        axes[count].set_yticks([])\n",
    "        axes[count].set_title(\"Predicted {}\".format(pred.item()))\n",
    "\n",
    "        count += 1"
   ]
  },
  {
   "cell_type": "markdown",
   "id": "4e456fa0-cd32-4d05-894f-8d8540709c11",
   "metadata": {},
   "source": [
    "# Comparing Results between CNN and QNN"
   ]
  },
  {
   "cell_type": "code",
   "execution_count": 171,
   "id": "cd65f29f-935b-4896-add2-915e73aef53f",
   "metadata": {
    "tags": []
   },
   "outputs": [
    {
     "name": "stdout",
     "output_type": "stream",
     "text": [
      "╒════════════════════╤════════════════╤════════════════════╕\n",
      "│ Model              │ Average Loss   │ Average Accuracy   │\n",
      "╞════════════════════╪════════════════╪════════════════════╡\n",
      "│ CNN, 100 samples   │ 0.0000         │ 100.0000           │\n",
      "├────────────────────┼────────────────┼────────────────────┤\n",
      "│ QNN, 100 samples   │ -5.2261        │ 83.5000            │\n",
      "├────────────────────┼────────────────┼────────────────────┤\n",
      "│ -                  │ -              │ -                  │\n",
      "├────────────────────┼────────────────┼────────────────────┤\n",
      "│ CNN, 1000 samples  │ 0.0148         │ 99.7980            │\n",
      "├────────────────────┼────────────────┼────────────────────┤\n",
      "│ QNN, 1000 samples  │ -31.2987       │ 85.4040            │\n",
      "├────────────────────┼────────────────┼────────────────────┤\n",
      "│ -                  │ -              │ -                  │\n",
      "├────────────────────┼────────────────┼────────────────────┤\n",
      "│ CNN, 10000 samples │ 0.0139         │ 99.8109            │\n",
      "├────────────────────┼────────────────┼────────────────────┤\n",
      "│ QNN, 10000 samples │ -40.6285       │ 84.3972            │\n",
      "├────────────────────┼────────────────┼────────────────────┤\n",
      "│ -                  │ -              │ -                  │\n",
      "├────────────────────┼────────────────┼────────────────────┤\n",
      "│ CNN, 20000 samples │ 0.0139         │ 99.8109            │\n",
      "├────────────────────┼────────────────┼────────────────────┤\n",
      "│ QNN, 20000 samples │ -45.3290       │ 84.3972            │\n",
      "╘════════════════════╧════════════════╧════════════════════╛\n"
     ]
    }
   ],
   "source": [
    "from tabulate import tabulate\n",
    "\n",
    "table_data = [\n",
    "    [\"Model\", \"Average Loss\", \"Average Accuracy\"],\n",
    "    [\"CNN, 100 samples\", f\"{classical_avg_loss_100:.4f}\", f\"{classical_accuracy_100:.4f}\"],\n",
    "    [\"QNN, 100 samples\", f\"{qnn_avg_loss_100:.4f}\", f\"{qnn_accuracy_100:.4f}\"],\n",
    "    [\"-\", \"-\", \"-\"],\n",
    "    [\"CNN, 1000 samples\", f\"{classical_avg_loss_1000:.4f}\", f\"{classical_accuracy_1000:.4f}\"],\n",
    "    [\"QNN, 1000 samples\", f\"{qnn_avg_loss_1000:.4f}\", f\"{qnn_accuracy_1000:.4f}\"],\n",
    "    [\"-\", \"-\", \"-\"],\n",
    "    [\"CNN, 10000 samples\", f\"{classical_avg_loss_10000:.4f}\", f\"{classical_accuracy_10000:.4f}\"],\n",
    "    [\"QNN, 10000 samples\", f\"{qnn_avg_loss_10000:.4f}\", f\"{qnn_accuracy_10000:.4f}\"],\n",
    "    [\"-\", \"-\", \"-\"],\n",
    "    [\"CNN, 20000 samples\", f\"{classical_avg_loss_20000:.4f}\", f\"{classical_accuracy_20000:.4f}\"],\n",
    "    [\"QNN, 20000 samples\", f\"{qnn_avg_loss_20000:.4f}\", f\"{qnn_accuracy_20000:.4f}\"],\n",
    "]\n",
    "\n",
    "table = tabulate(table_data, headers=\"firstrow\", tablefmt=\"fancy_grid\")\n",
    "print(table)"
   ]
  },
  {
   "cell_type": "markdown",
   "id": "6cb74c49-a0de-4c03-8eb7-2234c0cb8a87",
   "metadata": {},
   "source": [
    "## Results Discussion"
   ]
  },
  {
   "cell_type": "markdown",
   "id": "1b406efb-1c86-44cb-b8b7-9596b8968e15",
   "metadata": {},
   "source": [
    "* Firstly, both the models use different Loss Functions, hence the disparity in the values. The CNN uses the Cross Entropy Loss function and QNN uses the Negative Log Likelihood Loss function. For CNN, the average loss is 0 at 100 samples because there are too few samples and so the model can classify the data easily. As the number of samples increases, we can see that the average loss values for both models decrease, indicating the fact that the models are becoming better at predicting outputs. \n",
    "* The accuracy for CNN remains relatively constant as the number of samples increases. On the other hand, the accuracy increases for QNN as the number of samples increases up to a certain point after which, the accuracy starts to decrease. This shows that the QNN becomes worse at generalizing the data at higher numbers of samples. \n",
    "* We also have to take into account that CNN consistently performs at a higher accuracy compared to QNN. This may be due to the fact the QNN model is a hybrid model and we are implementing a quantum circuit in a traditional neural network. If this was a quantum model built from scratch, maybe the QNN could have given better results. \n",
    "* Overall, there is a good scope for improvement in our implementation of a QNN."
   ]
  }
 ],
 "metadata": {
  "kernelspec": {
   "display_name": "Python 3 (ipykernel)",
   "language": "python",
   "name": "python3"
  },
  "language_info": {
   "codemirror_mode": {
    "name": "ipython",
    "version": 3
   },
   "file_extension": ".py",
   "mimetype": "text/x-python",
   "name": "python",
   "nbconvert_exporter": "python",
   "pygments_lexer": "ipython3",
   "version": "3.10.11"
  },
  "toc": {
   "base_numbering": 1,
   "nav_menu": {},
   "number_sections": true,
   "sideBar": true,
   "skip_h1_title": false,
   "title_cell": "Table of Contents",
   "title_sidebar": "Contents",
   "toc_cell": false,
   "toc_position": {},
   "toc_section_display": true,
   "toc_window_display": false
  },
  "widgets": {
   "application/vnd.jupyter.widget-state+json": {
    "state": {},
    "version_major": 2,
    "version_minor": 0
   }
  }
 },
 "nbformat": 4,
 "nbformat_minor": 5
}
